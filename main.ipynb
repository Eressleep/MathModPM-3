{
 "cells": [
  {
   "cell_type": "code",
   "execution_count": 1,
   "metadata": {},
   "outputs": [],
   "source": [
    "#подключаем файл гаусс, в корне лежит\n",
    "import gauss\n",
    "import numpy as np"
   ]
  },
  {
   "cell_type": "code",
   "execution_count": 2,
   "metadata": {},
   "outputs": [
    {
     "name": "stdout",
     "output_type": "stream",
     "text": [
      "[[-0.8  0.3  0.2  0. ]\n",
      " [ 0.6 -0.6  0.6  0. ]\n",
      " [ 0.2  0.3 -0.8  0. ]]\n",
      "\n",
      "\n"
     ]
    }
   ],
   "source": [
    "left = np.array([[0.2, 0.3, 0.2],\n",
    "                 [0.6, 0.4, 0.6],\n",
    "                 [0.2, 0.3, 0.2]\n",
    "                ])\n",
    "np.fill_diagonal(left, np.diagonal(left)-1)\n",
    "\n",
    "b = np.hstack((left, np.zeros((left.shape[0], 1), dtype=left.dtype)))\n",
    "\n",
    "print(b)\n",
    "\n",
    "\n",
    "print(\"\\n\")"
   ]
  },
  {
   "cell_type": "code",
   "execution_count": 3,
   "metadata": {},
   "outputs": [],
   "source": [
    "a = np.array([[1, 2, 1, 1],\n",
    "              [1, 3, 1, 1],\n",
    "              [0, 1, 1, 2]])"
   ]
  },
  {
   "cell_type": "code",
   "execution_count": 4,
   "metadata": {},
   "outputs": [
    {
     "name": "stdout",
     "output_type": "stream",
     "text": [
      "Ответ:\n",
      "[-1  0  2]\n"
     ]
    }
   ],
   "source": [
    "b = gauss.gaussFunc(a)\n",
    "print(\"Ответ:\")\n",
    "print(b)"
   ]
  }
 ],
 "metadata": {
  "kernelspec": {
   "display_name": "Python 3",
   "language": "python",
   "name": "python3"
  },
  "language_info": {
   "codemirror_mode": {
    "name": "ipython",
    "version": 3
   },
   "file_extension": ".py",
   "mimetype": "text/x-python",
   "name": "python",
   "nbconvert_exporter": "python",
   "pygments_lexer": "ipython3",
   "version": "3.8.5"
  }
 },
 "nbformat": 4,
 "nbformat_minor": 4
}
